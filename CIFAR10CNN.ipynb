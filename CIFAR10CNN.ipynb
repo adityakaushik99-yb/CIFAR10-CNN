{
  "nbformat": 4,
  "nbformat_minor": 0,
  "metadata": {
    "colab": {
      "name": "CIFAR10CNN.ipynb",
      "version": "0.3.2",
      "provenance": [],
      "include_colab_link": true
    },
    "kernelspec": {
      "name": "python3",
      "display_name": "Python 3"
    },
    "accelerator": "GPU"
  },
  "cells": [
    {
      "cell_type": "markdown",
      "metadata": {
        "id": "view-in-github",
        "colab_type": "text"
      },
      "source": [
        "<a href=\"https://colab.research.google.com/github/adityakaushik99/CIFAR10-CNN/blob/master/CIFAR10CNN.ipynb\" target=\"_parent\"><img src=\"https://colab.research.google.com/assets/colab-badge.svg\" alt=\"Open In Colab\"/></a>"
      ]
    },
    {
      "metadata": {
        "id": "rQ5tySn1ejUv",
        "colab_type": "code",
        "colab": {}
      },
      "cell_type": "code",
      "source": [
        "from keras.datasets import cifar10\n",
        "\n",
        "(x_train, y_train), (x_test, y_test) = cifar10.load_data()"
      ],
      "execution_count": 0,
      "outputs": []
    },
    {
      "metadata": {
        "id": "UzLFTcZK4SwW",
        "colab_type": "code",
        "colab": {
          "base_uri": "https://localhost:8080/",
          "height": 85
        },
        "outputId": "98fdeef9-4fe8-4b6f-cbf7-c6d051035677"
      },
      "cell_type": "code",
      "source": [
        "print(x_train.shape)\n",
        "print(y_train.shape)\n",
        "print(x_test.shape)\n",
        "print(y_test.shape)"
      ],
      "execution_count": 25,
      "outputs": [
        {
          "output_type": "stream",
          "text": [
            "(50000, 32, 32, 3)\n",
            "(50000, 1)\n",
            "(10000, 32, 32, 3)\n",
            "(10000, 1)\n"
          ],
          "name": "stdout"
        }
      ]
    },
    {
      "metadata": {
        "id": "QhmXi03H4q0A",
        "colab_type": "code",
        "colab": {}
      },
      "cell_type": "code",
      "source": [
        "x_train = x_train.astype('float32')\n",
        "x_test = x_test.astype('float32')\n",
        "\n",
        "x_train /= 255\n",
        "x_test /= 255\n",
        "\n",
        "from keras.utils import np_utils\n",
        "numclasses = 10\n",
        "y_train = np_utils.to_categorical(y_train, numclasses)\n",
        "y_test = np_utils.to_categorical(y_test, numclasses)"
      ],
      "execution_count": 0,
      "outputs": []
    },
    {
      "metadata": {
        "id": "LV_W1Dvg5ggi",
        "colab_type": "code",
        "colab": {
          "base_uri": "https://localhost:8080/",
          "height": 85
        },
        "outputId": "d55c6cdf-a088-4b28-fed8-77af2cb8cd03"
      },
      "cell_type": "code",
      "source": [
        "print(x_train.shape)\n",
        "print(y_train.shape)\n",
        "print(x_test.shape)\n",
        "print(y_test.shape)"
      ],
      "execution_count": 27,
      "outputs": [
        {
          "output_type": "stream",
          "text": [
            "(50000, 32, 32, 3)\n",
            "(50000, 10)\n",
            "(10000, 32, 32, 3)\n",
            "(10000, 10)\n"
          ],
          "name": "stdout"
        }
      ]
    },
    {
      "metadata": {
        "id": "q6fzrxyt5q3c",
        "colab_type": "code",
        "colab": {}
      },
      "cell_type": "code",
      "source": [
        "import keras\n",
        "from keras.models import Sequential\n",
        "from keras.utils import np_utils\n",
        "from keras.preprocessing.image import ImageDataGenerator\n",
        "from keras.layers import Dense, Activation, Dropout, Flatten, BatchNormalization\n",
        "from keras.layers import Conv2D, MaxPooling2D\n",
        "import numpy as np\n",
        "from keras.datasets import cifar10\n",
        "from keras import regularizers\n",
        "from keras.callbacks import LearningRateScheduler"
      ],
      "execution_count": 0,
      "outputs": []
    },
    {
      "metadata": {
        "id": "jlDyJRgK587a",
        "colab_type": "code",
        "colab": {}
      },
      "cell_type": "code",
      "source": [
        "model = Sequential()\n",
        "model.add(Conv2D(32, (3,3), padding = 'same', input_shape=x_train.shape[1:]))\n",
        "model.add(Activation('relu'))\n",
        "model.add(Conv2D(32, (3,3)))\n",
        "model.add(Activation('relu'))\n",
        "model.add(MaxPooling2D(pool_size=(2,2)))\n",
        "model.add(Dropout(0.25))\n",
        "\n",
        "model.add(Conv2D(64, (3,3), padding = 'same'))\n",
        "model.add(Activation('relu'))\n",
        "model.add(Conv2D(64,(3, 3)))\n",
        "model.add(Activation('relu'))\n",
        "model.add(MaxPooling2D(pool_size=(2,2)))\n",
        "model.add(Dropout(0.25))\n",
        "\n",
        "model.add(Flatten())\n",
        "model.add(Dense(512))\n",
        "model.add(Dropout(0.5))\n",
        "model.add(Dense(numclasses))\n",
        "model.add(Activation('softmax'))"
      ],
      "execution_count": 0,
      "outputs": []
    },
    {
      "metadata": {
        "id": "dp6cU-1a6AHz",
        "colab_type": "code",
        "colab": {}
      },
      "cell_type": "code",
      "source": [
        "gendata = ImageDataGenerator(\n",
        "            featurewise_center=False,\n",
        "            samplewise_center=False, featurewise_std_normalization=False, samplewise_std_normalization=False, zca_whitening=False,\n",
        "            rotation_range=0, width_shift_range=0.1, height_shift_range=0.1, horizontal_flip=True, vertical_flip=False)\n",
        "\n",
        "gendata.fit(x_train)"
      ],
      "execution_count": 0,
      "outputs": []
    },
    {
      "metadata": {
        "id": "JdgawsXi6Gz8",
        "colab_type": "code",
        "colab": {}
      },
      "cell_type": "code",
      "source": [
        "bs = 64\n",
        "opt_rms = keras.optimizers.rmsprop(lr=0.001, decay=1e-6)\n",
        "model.compile(loss='categorical_crossentropy', optimizer = opt_rms, metrics = ['accuracy'])"
      ],
      "execution_count": 0,
      "outputs": []
    },
    {
      "metadata": {
        "id": "64kgpHWe6K33",
        "colab_type": "code",
        "colab": {
          "base_uri": "https://localhost:8080/",
          "height": 1734
        },
        "outputId": "336cbec4-464c-41cf-ecd9-6ea0b8c6b8bf"
      },
      "cell_type": "code",
      "source": [
        "epochs = 50\n",
        "model.fit_generator(gendata.flow(x_train, y_train, batch_size=bs), steps_per_epoch=x_train.shape[0]//bs, epochs=epochs, verbose = 1, validation_data=(x_test, y_test))"
      ],
      "execution_count": 32,
      "outputs": [
        {
          "output_type": "stream",
          "text": [
            "Epoch 1/50\n",
            "781/781 [==============================] - 32s 41ms/step - loss: 1.6626 - acc: 0.3951 - val_loss: 1.1503 - val_acc: 0.5891\n",
            "Epoch 2/50\n",
            "781/781 [==============================] - 31s 40ms/step - loss: 1.2759 - acc: 0.5466 - val_loss: 1.0827 - val_acc: 0.6263\n",
            "Epoch 3/50\n",
            "781/781 [==============================] - 31s 40ms/step - loss: 1.1354 - acc: 0.6001 - val_loss: 0.9495 - val_acc: 0.6812\n",
            "Epoch 4/50\n",
            "781/781 [==============================] - 32s 41ms/step - loss: 1.0523 - acc: 0.6321 - val_loss: 0.8824 - val_acc: 0.6961\n",
            "Epoch 5/50\n",
            "781/781 [==============================] - 31s 40ms/step - loss: 0.9970 - acc: 0.6544 - val_loss: 0.9239 - val_acc: 0.6814\n",
            "Epoch 6/50\n",
            "781/781 [==============================] - 31s 40ms/step - loss: 0.9683 - acc: 0.6635 - val_loss: 0.8999 - val_acc: 0.6870\n",
            "Epoch 7/50\n",
            "781/781 [==============================] - 31s 40ms/step - loss: 0.9341 - acc: 0.6755 - val_loss: 0.8793 - val_acc: 0.7053\n",
            "Epoch 8/50\n",
            "781/781 [==============================] - 31s 40ms/step - loss: 0.9095 - acc: 0.6834 - val_loss: 0.7518 - val_acc: 0.7430\n",
            "Epoch 9/50\n",
            "781/781 [==============================] - 31s 40ms/step - loss: 0.8851 - acc: 0.6933 - val_loss: 0.7474 - val_acc: 0.7482\n",
            "Epoch 10/50\n",
            "781/781 [==============================] - 31s 40ms/step - loss: 0.8790 - acc: 0.6980 - val_loss: 0.8065 - val_acc: 0.7254\n",
            "Epoch 11/50\n",
            "781/781 [==============================] - 31s 40ms/step - loss: 0.8603 - acc: 0.7029 - val_loss: 0.7355 - val_acc: 0.7548\n",
            "Epoch 12/50\n",
            "781/781 [==============================] - 31s 40ms/step - loss: 0.8443 - acc: 0.7086 - val_loss: 0.8194 - val_acc: 0.7307\n",
            "Epoch 13/50\n",
            "781/781 [==============================] - 31s 40ms/step - loss: 0.8349 - acc: 0.7144 - val_loss: 0.8120 - val_acc: 0.7299\n",
            "Epoch 14/50\n",
            "781/781 [==============================] - 31s 40ms/step - loss: 0.8328 - acc: 0.7125 - val_loss: 0.8634 - val_acc: 0.7244\n",
            "Epoch 15/50\n",
            "781/781 [==============================] - 31s 40ms/step - loss: 0.8248 - acc: 0.7177 - val_loss: 0.7701 - val_acc: 0.7475\n",
            "Epoch 16/50\n",
            "781/781 [==============================] - 31s 39ms/step - loss: 0.8144 - acc: 0.7177 - val_loss: 0.7927 - val_acc: 0.7394\n",
            "Epoch 17/50\n",
            "781/781 [==============================] - 32s 40ms/step - loss: 0.8045 - acc: 0.7239 - val_loss: 0.7447 - val_acc: 0.7536\n",
            "Epoch 18/50\n",
            "781/781 [==============================] - 31s 40ms/step - loss: 0.8011 - acc: 0.7260 - val_loss: 0.6699 - val_acc: 0.7748\n",
            "Epoch 19/50\n",
            "781/781 [==============================] - 31s 40ms/step - loss: 0.7976 - acc: 0.7274 - val_loss: 0.7042 - val_acc: 0.7719\n",
            "Epoch 20/50\n",
            "781/781 [==============================] - 31s 40ms/step - loss: 0.7949 - acc: 0.7270 - val_loss: 0.7174 - val_acc: 0.7603\n",
            "Epoch 21/50\n",
            "781/781 [==============================] - 31s 40ms/step - loss: 0.7940 - acc: 0.7307 - val_loss: 0.6545 - val_acc: 0.7820\n",
            "Epoch 22/50\n",
            "781/781 [==============================] - 31s 39ms/step - loss: 0.7932 - acc: 0.7287 - val_loss: 0.6520 - val_acc: 0.7858\n",
            "Epoch 23/50\n",
            "781/781 [==============================] - 31s 40ms/step - loss: 0.7850 - acc: 0.7304 - val_loss: 0.7359 - val_acc: 0.7544\n",
            "Epoch 24/50\n",
            "781/781 [==============================] - 31s 40ms/step - loss: 0.7874 - acc: 0.7311 - val_loss: 0.7398 - val_acc: 0.7562\n",
            "Epoch 25/50\n",
            "781/781 [==============================] - 31s 39ms/step - loss: 0.7818 - acc: 0.7321 - val_loss: 0.7254 - val_acc: 0.7641\n",
            "Epoch 26/50\n",
            "781/781 [==============================] - 31s 40ms/step - loss: 0.7761 - acc: 0.7366 - val_loss: 0.6808 - val_acc: 0.7743\n",
            "Epoch 27/50\n",
            "781/781 [==============================] - 31s 39ms/step - loss: 0.7692 - acc: 0.7408 - val_loss: 0.6678 - val_acc: 0.7775\n",
            "Epoch 28/50\n",
            "781/781 [==============================] - 31s 39ms/step - loss: 0.7754 - acc: 0.7353 - val_loss: 0.7504 - val_acc: 0.7469\n",
            "Epoch 29/50\n",
            "781/781 [==============================] - 31s 40ms/step - loss: 0.7636 - acc: 0.7401 - val_loss: 0.6702 - val_acc: 0.7746\n",
            "Epoch 30/50\n",
            "781/781 [==============================] - 31s 39ms/step - loss: 0.7782 - acc: 0.7337 - val_loss: 0.7064 - val_acc: 0.7675\n",
            "Epoch 31/50\n",
            "781/781 [==============================] - 31s 39ms/step - loss: 0.7610 - acc: 0.7392 - val_loss: 0.6951 - val_acc: 0.7665\n",
            "Epoch 32/50\n",
            "781/781 [==============================] - 32s 41ms/step - loss: 0.7646 - acc: 0.7389 - val_loss: 0.6919 - val_acc: 0.7726\n",
            "Epoch 33/50\n",
            "781/781 [==============================] - 31s 40ms/step - loss: 0.7593 - acc: 0.7413 - val_loss: 0.6532 - val_acc: 0.7874\n",
            "Epoch 34/50\n",
            "781/781 [==============================] - 31s 39ms/step - loss: 0.7605 - acc: 0.7402 - val_loss: 0.7123 - val_acc: 0.7681\n",
            "Epoch 35/50\n",
            "781/781 [==============================] - 32s 41ms/step - loss: 0.7659 - acc: 0.7400 - val_loss: 0.6387 - val_acc: 0.7899\n",
            "Epoch 36/50\n",
            "781/781 [==============================] - 31s 40ms/step - loss: 0.7558 - acc: 0.7438 - val_loss: 0.6892 - val_acc: 0.7780\n",
            "Epoch 37/50\n",
            "781/781 [==============================] - 31s 39ms/step - loss: 0.7597 - acc: 0.7429 - val_loss: 0.7272 - val_acc: 0.7648\n",
            "Epoch 38/50\n",
            "781/781 [==============================] - 31s 40ms/step - loss: 0.7574 - acc: 0.7433 - val_loss: 0.6717 - val_acc: 0.7721\n",
            "Epoch 39/50\n",
            "781/781 [==============================] - 31s 40ms/step - loss: 0.7577 - acc: 0.7415 - val_loss: 0.6580 - val_acc: 0.7820\n",
            "Epoch 40/50\n",
            "781/781 [==============================] - 30s 39ms/step - loss: 0.7582 - acc: 0.7424 - val_loss: 0.7981 - val_acc: 0.7449\n",
            "Epoch 41/50\n",
            "781/781 [==============================] - 31s 40ms/step - loss: 0.7583 - acc: 0.7399 - val_loss: 0.6714 - val_acc: 0.7774\n",
            "Epoch 42/50\n",
            "781/781 [==============================] - 31s 40ms/step - loss: 0.7524 - acc: 0.7447 - val_loss: 0.6520 - val_acc: 0.7830\n",
            "Epoch 43/50\n",
            "781/781 [==============================] - 31s 39ms/step - loss: 0.7610 - acc: 0.7415 - val_loss: 0.6921 - val_acc: 0.7732\n",
            "Epoch 44/50\n",
            "781/781 [==============================] - 31s 40ms/step - loss: 0.7556 - acc: 0.7447 - val_loss: 0.6204 - val_acc: 0.7928\n",
            "Epoch 45/50\n",
            "781/781 [==============================] - 31s 40ms/step - loss: 0.7505 - acc: 0.7453 - val_loss: 0.6804 - val_acc: 0.7797\n",
            "Epoch 46/50\n",
            "781/781 [==============================] - 31s 40ms/step - loss: 0.7521 - acc: 0.7465 - val_loss: 0.7059 - val_acc: 0.7742\n",
            "Epoch 47/50\n",
            "781/781 [==============================] - 31s 40ms/step - loss: 0.7562 - acc: 0.7416 - val_loss: 0.7272 - val_acc: 0.7563\n",
            "Epoch 48/50\n",
            "781/781 [==============================] - 31s 39ms/step - loss: 0.7547 - acc: 0.7429 - val_loss: 0.6534 - val_acc: 0.7873\n",
            "Epoch 49/50\n",
            "781/781 [==============================] - 30s 39ms/step - loss: 0.7521 - acc: 0.7442 - val_loss: 0.6559 - val_acc: 0.7847\n",
            "Epoch 50/50\n",
            "781/781 [==============================] - 31s 39ms/step - loss: 0.7544 - acc: 0.7447 - val_loss: 0.6682 - val_acc: 0.7836\n"
          ],
          "name": "stdout"
        },
        {
          "output_type": "execute_result",
          "data": {
            "text/plain": [
              "<keras.callbacks.History at 0x7fb7b2a43358>"
            ]
          },
          "metadata": {
            "tags": []
          },
          "execution_count": 32
        }
      ]
    },
    {
      "metadata": {
        "id": "aPpkt4Uu6Ofq",
        "colab_type": "code",
        "colab": {}
      },
      "cell_type": "code",
      "source": [
        "model_name = 'cifar-10-cnn-'+str(epochs)\n",
        "model.save(model_name+'.hd5')"
      ],
      "execution_count": 0,
      "outputs": []
    },
    {
      "metadata": {
        "id": "FF-3QRB6DbO6",
        "colab_type": "code",
        "colab": {}
      },
      "cell_type": "code",
      "source": [
        ""
      ],
      "execution_count": 0,
      "outputs": []
    }
  ]
}